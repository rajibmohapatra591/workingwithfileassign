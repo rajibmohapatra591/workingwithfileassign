{
 "cells": [
  {
   "cell_type": "code",
   "execution_count": null,
   "id": "240039bb-0e0f-47e5-9bd7-1d973b55e283",
   "metadata": {},
   "outputs": [],
   "source": [
    "# Q1. Which function is used to open a file? What are the different modes of opening a file? Explain each mode of file opening."
   ]
  },
  {
   "cell_type": "code",
   "execution_count": null,
   "id": "c3e9ae52-9157-4811-b956-cfbba91df7c4",
   "metadata": {},
   "outputs": [],
   "source": [
    "There are many modes for opening a file: \n",
    "'r'       open for reading (default)\n",
    "'w'       open for writing, truncating the file first\n",
    "'x'       create a new file and open it for writing\n",
    "'a'       open for writing, appending to the end of the file if it exists\n",
    "'b'       binary mode\n",
    "'t'       text mode (default)\n",
    "'+'       open a disk file for updating (reading and writing)\n",
    "'U'       universal newline mode (deprecated)"
   ]
  },
  {
   "cell_type": "code",
   "execution_count": null,
   "id": "f2b089c4-040f-425b-81cf-88e3b809ec0b",
   "metadata": {},
   "outputs": [],
   "source": [
    "# Q2. Why close() function is used? Why is it important to close a file?"
   ]
  },
  {
   "cell_type": "code",
   "execution_count": null,
   "id": "8c29935f-a70e-40a3-bd83-7b1d5c1351b4",
   "metadata": {},
   "outputs": [],
   "source": [
    "The close() method closes an open file. You should always close your files, in some cases,\n",
    "due to buffering, changes made to a file may not show until you close the file."
   ]
  },
  {
   "cell_type": "code",
   "execution_count": null,
   "id": "264e509a-450f-4e9b-b45b-5f42e3d8c127",
   "metadata": {},
   "outputs": [],
   "source": [
    "# Q3. Write a python program to create a text file. Write ‘I want to become a Data Scientist’ in that file. \n",
    "# Then close the file. Open this file and read the content of the file."
   ]
  },
  {
   "cell_type": "code",
   "execution_count": 3,
   "id": "f70a2444-e766-4d25-abc3-0f38d51570ba",
   "metadata": {},
   "outputs": [],
   "source": [
    "f  = open(\"test.txt\" , 'w')"
   ]
  },
  {
   "cell_type": "code",
   "execution_count": 4,
   "id": "842086da-d177-4679-b1ed-36b04ba82385",
   "metadata": {},
   "outputs": [
    {
     "data": {
      "text/plain": [
       "33"
      ]
     },
     "execution_count": 4,
     "metadata": {},
     "output_type": "execute_result"
    }
   ],
   "source": [
    "f.write(\"I want to become a Data Scientist\")"
   ]
  },
  {
   "cell_type": "code",
   "execution_count": 5,
   "id": "c689a101-1df9-4504-b5c6-f47006362e00",
   "metadata": {},
   "outputs": [],
   "source": [
    "f.close()"
   ]
  },
  {
   "cell_type": "code",
   "execution_count": null,
   "id": "81853d10-b761-4609-b35e-8d6e506aa871",
   "metadata": {},
   "outputs": [],
   "source": [
    "# Q4. Explain the following with python code: read(), readline() and readlines()."
   ]
  },
  {
   "cell_type": "code",
   "execution_count": null,
   "id": "67a0aa01-d3b0-4bb6-b6e6-08e0b015d308",
   "metadata": {},
   "outputs": [],
   "source": [
    "read() : This function reads the entire file and returns a string.\n",
    "readline() method will return a line from the file when called.\n",
    "readlines() method will return all the lines in a file in the format of a list where each element is a line in the file."
   ]
  },
  {
   "cell_type": "code",
   "execution_count": null,
   "id": "38b65903-88e0-44b3-b86b-2a98c4898de0",
   "metadata": {},
   "outputs": [],
   "source": [
    "# Q5. Explain why with statement is used with open(). What is the advantage of using with statement and open() together?"
   ]
  },
  {
   "cell_type": "code",
   "execution_count": null,
   "id": "081c4a57-1cc5-4722-9a96-eb30027e5128",
   "metadata": {},
   "outputs": [],
   "source": [
    "The above code works in the same manner as the previous code without the need to use the close() method.\n",
    "Hence, combining the with statement and the open() function in Python helps us read and\n",
    "write to the file without being worried about closing it."
   ]
  },
  {
   "cell_type": "code",
   "execution_count": null,
   "id": "4c45e923-147c-4966-bedd-b0e683bd276a",
   "metadata": {},
   "outputs": [],
   "source": []
  },
  {
   "cell_type": "code",
   "execution_count": null,
   "id": "9f4fcc42-9677-4b9c-99b9-cf587b739839",
   "metadata": {},
   "outputs": [],
   "source": []
  },
  {
   "cell_type": "code",
   "execution_count": null,
   "id": "6ba1e48a-bcb2-42fe-b774-e5ef7d12b6e8",
   "metadata": {},
   "outputs": [],
   "source": []
  }
 ],
 "metadata": {
  "kernelspec": {
   "display_name": "Python 3 (ipykernel)",
   "language": "python",
   "name": "python3"
  },
  "language_info": {
   "codemirror_mode": {
    "name": "ipython",
    "version": 3
   },
   "file_extension": ".py",
   "mimetype": "text/x-python",
   "name": "python",
   "nbconvert_exporter": "python",
   "pygments_lexer": "ipython3",
   "version": "3.10.8"
  }
 },
 "nbformat": 4,
 "nbformat_minor": 5
}
